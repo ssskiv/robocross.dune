{
 "cells": [
  {
   "cell_type": "code",
   "execution_count": null,
   "id": "c861749d",
   "metadata": {
    "vscode": {
     "languageId": "plaintext"
    }
   },
   "outputs": [],
   "source": [
    "from ultralytics import YOLO\n",
    "import torch\n",
    "import cv2\n",
    "\n",
    "print(\"YOLOv8:\", YOLO)\n",
    "print(\"PyTorch:\", torch.__version__)\n",
    "print(\"OpenCV:\", cv2.__version__)"
   ]
  }
 ],
 "metadata": {
  "language_info": {
   "name": "python"
  }
 },
 "nbformat": 4,
 "nbformat_minor": 5
}
